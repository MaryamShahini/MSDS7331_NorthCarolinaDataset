{
 "cells": [
  {
   "cell_type": "markdown",
   "metadata": {},
   "source": [
    "# Lab 1\n",
    "\n",
    "<b>Class:</b> MSDS 7331 Data Mining\n",
    "<br> <b>Dataset:</b> Belk Endowment Educational Attainment Data \n",
    "\n",
    "<h1 style=\"font-size:150%;\"> Teammates </h1>\n",
    "Maryam Shahini\n",
    "<br> Murtada Shubbar\n",
    "<br> Michael Toolin\n",
    "<br> Steven Millett"
   ]
  },
  {
   "cell_type": "code",
   "execution_count": 6,
   "metadata": {},
   "outputs": [],
   "source": [
    "import pandas as pd\n",
    "import numpy as np\n",
    "import matplotlib.pyplot as plt\n",
    "from pandas.plotting import scatter_matrix\n",
    "\n",
    "\n",
    "%matplotlib inline"
   ]
  },
  {
   "cell_type": "markdown",
   "metadata": {},
   "source": [
    "# "
   ]
  },
  {
   "cell_type": "code",
   "execution_count": null,
   "metadata": {},
   "outputs": [],
   "source": []
  },
  {
   "cell_type": "code",
   "execution_count": 10,
   "metadata": {},
   "outputs": [],
   "source": [
    "public_school_2014_data = pd.read_csv('./Data/School Datasets/PublicSchools2014.csv', low_memory=False)\n",
    "public_school_2015_data = pd.read_csv('./Data/School Datasets/PublicSchools2015.csv', low_memory=False)\n",
    "public_school_2016_data = pd.read_csv('./Data/School Datasets/PublicSchools2016.csv', low_memory=False)\n",
    "public_school_2017_data = pd.read_csv('./Data/School Datasets/PublicSchools2017.csv', low_memory=False)"
   ]
  },
  {
   "cell_type": "code",
   "execution_count": 12,
   "metadata": {},
   "outputs": [
    {
     "name": "stdout",
     "output_type": "stream",
     "text": [
      "(2561, 1259)\n",
      "(2585, 1256)\n",
      "(2599, 1256)\n",
      "(2617, 1279)\n"
     ]
    }
   ],
   "source": [
    "print(public_school_2014_data.shape)\n",
    "print(public_school_2015_data.shape)\n",
    "print(public_school_2016_data.shape)\n",
    "print(public_school_2017_data.shape)"
   ]
  },
  {
   "cell_type": "code",
   "execution_count": 13,
   "metadata": {},
   "outputs": [],
   "source": [
    "master_public_school_data = pd.concat([public_school_2014_data, public_school_2015_data,\n",
    "                                       public_school_2016_data, public_school_2017_data], axis =0, ignore_index=True, sort=False)"
   ]
  },
  {
   "cell_type": "code",
   "execution_count": 15,
   "metadata": {},
   "outputs": [
    {
     "name": "stdout",
     "output_type": "stream",
     "text": [
      "(10362, 1318)\n"
     ]
    }
   ],
   "source": [
    "print(master_public_school_data.shape)"
   ]
  },
  {
   "cell_type": "code",
   "execution_count": 17,
   "metadata": {},
   "outputs": [],
   "source": [
    "sample_public_school = master_public_school_data.sample(5000)"
   ]
  },
  {
   "cell_type": "code",
   "execution_count": null,
   "metadata": {},
   "outputs": [],
   "source": []
  },
  {
   "cell_type": "markdown",
   "metadata": {},
   "source": [
    "# Business Understanding \n",
    "\n",
    "Describe the purpose of the data set you selected (i.e., why was this data collected in the first place?). Describe how you would define and measure the outcomes from the dataset. That is, why is this data important and how do you know if you have mined useful knowledge from the dataset? How would you measure the effectiveness of a good prediction algorithm? Be specific."
   ]
  },
  {
   "cell_type": "code",
   "execution_count": null,
   "metadata": {},
   "outputs": [],
   "source": []
  },
  {
   "cell_type": "markdown",
   "metadata": {},
   "source": [
    "# Data Meaning Type \n",
    "\n",
    "Describe the meaning and type of data (scale, values, etc.) for each attribute in the data file."
   ]
  },
  {
   "cell_type": "code",
   "execution_count": 4,
   "metadata": {},
   "outputs": [
    {
     "name": "stdout",
     "output_type": "stream",
     "text": [
      "<class 'pandas.core.frame.DataFrame'>\n",
      "RangeIndex: 85766 entries, 0 to 85765\n",
      "Data columns (total 32 columns):\n",
      "District Name                                          85766 non-null object\n",
      "unit_code                                              85766 non-null object\n",
      "School Name                                            85758 non-null object\n",
      "SBE District                                           85574 non-null object\n",
      "Subject                                                85766 non-null object\n",
      "Standard (CCR - Level 4 & 5, GLP - Level 3 & Above)    85766 non-null object\n",
      "All Students                                           85766 non-null float64\n",
      "Female                                                 85766 non-null float64\n",
      "Male                                                   85766 non-null float64\n",
      "American Indian                                        85766 non-null float64\n",
      "Asian                                                  85766 non-null float64\n",
      "Black                                                  85766 non-null float64\n",
      "Hispanic                                               85766 non-null float64\n",
      "Two or More Races                                      85766 non-null float64\n",
      "White                                                  85766 non-null float64\n",
      "EDS                                                    85766 non-null float64\n",
      "LEP                                                    85766 non-null float64\n",
      "SWD                                                    85766 non-null float64\n",
      "AIG                                                    85766 non-null float64\n",
      "All Students_Ct                                        85766 non-null int64\n",
      "Female_Ct                                              85766 non-null int64\n",
      "Male_Ct                                                85766 non-null int64\n",
      "American Indian_Ct                                     85766 non-null int64\n",
      "Asian_Ct                                               85766 non-null int64\n",
      "Black_Ct                                               85766 non-null int64\n",
      "Hispanic_Ct                                            85766 non-null int64\n",
      "Two or More Races_Ct                                   85766 non-null int64\n",
      "White_Ct                                               85766 non-null int64\n",
      "EDS_Ct                                                 85766 non-null int64\n",
      "LEP_Ct                                                 85766 non-null int64\n",
      "SWD_Ct                                                 85766 non-null int64\n",
      "AIG_Ct                                                 85766 non-null int64\n",
      "dtypes: float64(13), int64(13), object(6)\n",
      "memory usage: 20.9+ MB\n",
      "None\n"
     ]
    }
   ],
   "source": [
    "print(school_data.info())"
   ]
  },
  {
   "cell_type": "code",
   "execution_count": 3,
   "metadata": {},
   "outputs": [
    {
     "data": {
      "text/html": [
       "<div>\n",
       "<style scoped>\n",
       "    .dataframe tbody tr th:only-of-type {\n",
       "        vertical-align: middle;\n",
       "    }\n",
       "\n",
       "    .dataframe tbody tr th {\n",
       "        vertical-align: top;\n",
       "    }\n",
       "\n",
       "    .dataframe thead th {\n",
       "        text-align: right;\n",
       "    }\n",
       "</style>\n",
       "<table border=\"1\" class=\"dataframe\">\n",
       "  <thead>\n",
       "    <tr style=\"text-align: right;\">\n",
       "      <th></th>\n",
       "      <th>District Name</th>\n",
       "      <th>unit_code</th>\n",
       "      <th>School Name</th>\n",
       "      <th>SBE District</th>\n",
       "      <th>Subject</th>\n",
       "      <th>Standard (CCR - Level 4 &amp; 5, GLP - Level 3 &amp; Above)</th>\n",
       "      <th>All Students</th>\n",
       "      <th>Female</th>\n",
       "      <th>Male</th>\n",
       "      <th>American Indian</th>\n",
       "      <th>...</th>\n",
       "      <th>American Indian_Ct</th>\n",
       "      <th>Asian_Ct</th>\n",
       "      <th>Black_Ct</th>\n",
       "      <th>Hispanic_Ct</th>\n",
       "      <th>Two or More Races_Ct</th>\n",
       "      <th>White_Ct</th>\n",
       "      <th>EDS_Ct</th>\n",
       "      <th>LEP_Ct</th>\n",
       "      <th>SWD_Ct</th>\n",
       "      <th>AIG_Ct</th>\n",
       "    </tr>\n",
       "  </thead>\n",
       "  <tbody>\n",
       "    <tr>\n",
       "      <th>0</th>\n",
       "      <td>State of North Carolina</td>\n",
       "      <td>NC</td>\n",
       "      <td>State of North Carolina</td>\n",
       "      <td>NaN</td>\n",
       "      <td>All EOG/EOC Subjects</td>\n",
       "      <td>College and Career Ready</td>\n",
       "      <td>49.2</td>\n",
       "      <td>51.0</td>\n",
       "      <td>47.6</td>\n",
       "      <td>33.4</td>\n",
       "      <td>...</td>\n",
       "      <td>24464</td>\n",
       "      <td>64469</td>\n",
       "      <td>509546</td>\n",
       "      <td>342683</td>\n",
       "      <td>83948</td>\n",
       "      <td>998834</td>\n",
       "      <td>995415</td>\n",
       "      <td>95195</td>\n",
       "      <td>255617</td>\n",
       "      <td>305064</td>\n",
       "    </tr>\n",
       "    <tr>\n",
       "      <th>1</th>\n",
       "      <td>State of North Carolina</td>\n",
       "      <td>NC</td>\n",
       "      <td>State of North Carolina</td>\n",
       "      <td>NaN</td>\n",
       "      <td>All EOC Subjects</td>\n",
       "      <td>College and Career Ready</td>\n",
       "      <td>50.9</td>\n",
       "      <td>54.0</td>\n",
       "      <td>48.0</td>\n",
       "      <td>33.6</td>\n",
       "      <td>...</td>\n",
       "      <td>4598</td>\n",
       "      <td>12697</td>\n",
       "      <td>96147</td>\n",
       "      <td>57565</td>\n",
       "      <td>14718</td>\n",
       "      <td>200303</td>\n",
       "      <td>170107</td>\n",
       "      <td>13634</td>\n",
       "      <td>42229</td>\n",
       "      <td>76138</td>\n",
       "    </tr>\n",
       "    <tr>\n",
       "      <th>2</th>\n",
       "      <td>State of North Carolina</td>\n",
       "      <td>NC</td>\n",
       "      <td>State of North Carolina</td>\n",
       "      <td>NaN</td>\n",
       "      <td>EOC Biology</td>\n",
       "      <td>College and Career Ready</td>\n",
       "      <td>47.5</td>\n",
       "      <td>48.5</td>\n",
       "      <td>46.5</td>\n",
       "      <td>33.0</td>\n",
       "      <td>...</td>\n",
       "      <td>1435</td>\n",
       "      <td>3592</td>\n",
       "      <td>29523</td>\n",
       "      <td>16915</td>\n",
       "      <td>4258</td>\n",
       "      <td>58641</td>\n",
       "      <td>50089</td>\n",
       "      <td>3627</td>\n",
       "      <td>12962</td>\n",
       "      <td>19977</td>\n",
       "    </tr>\n",
       "    <tr>\n",
       "      <th>3</th>\n",
       "      <td>State of North Carolina</td>\n",
       "      <td>NC</td>\n",
       "      <td>State of North Carolina</td>\n",
       "      <td>NaN</td>\n",
       "      <td>EOC English 2</td>\n",
       "      <td>College and Career Ready</td>\n",
       "      <td>50.1</td>\n",
       "      <td>56.0</td>\n",
       "      <td>44.4</td>\n",
       "      <td>30.9</td>\n",
       "      <td>...</td>\n",
       "      <td>1464</td>\n",
       "      <td>3542</td>\n",
       "      <td>31119</td>\n",
       "      <td>17970</td>\n",
       "      <td>4508</td>\n",
       "      <td>61362</td>\n",
       "      <td>54188</td>\n",
       "      <td>4153</td>\n",
       "      <td>13851</td>\n",
       "      <td>20321</td>\n",
       "    </tr>\n",
       "    <tr>\n",
       "      <th>4</th>\n",
       "      <td>State of North Carolina</td>\n",
       "      <td>NC</td>\n",
       "      <td>State of North Carolina</td>\n",
       "      <td>NaN</td>\n",
       "      <td>EOC Math I</td>\n",
       "      <td>College and Career Ready</td>\n",
       "      <td>54.1</td>\n",
       "      <td>56.6</td>\n",
       "      <td>51.8</td>\n",
       "      <td>36.5</td>\n",
       "      <td>...</td>\n",
       "      <td>1699</td>\n",
       "      <td>5563</td>\n",
       "      <td>35505</td>\n",
       "      <td>22680</td>\n",
       "      <td>5952</td>\n",
       "      <td>80300</td>\n",
       "      <td>65830</td>\n",
       "      <td>5854</td>\n",
       "      <td>15416</td>\n",
       "      <td>35840</td>\n",
       "    </tr>\n",
       "  </tbody>\n",
       "</table>\n",
       "<p>5 rows × 32 columns</p>\n",
       "</div>"
      ],
      "text/plain": [
       "             District Name unit_code              School Name SBE District  \\\n",
       "0  State of North Carolina        NC  State of North Carolina          NaN   \n",
       "1  State of North Carolina        NC  State of North Carolina          NaN   \n",
       "2  State of North Carolina        NC  State of North Carolina          NaN   \n",
       "3  State of North Carolina        NC  State of North Carolina          NaN   \n",
       "4  State of North Carolina        NC  State of North Carolina          NaN   \n",
       "\n",
       "                Subject Standard (CCR - Level 4 & 5, GLP - Level 3 & Above)  \\\n",
       "0  All EOG/EOC Subjects                           College and Career Ready    \n",
       "1      All EOC Subjects                           College and Career Ready    \n",
       "2           EOC Biology                           College and Career Ready    \n",
       "3         EOC English 2                           College and Career Ready    \n",
       "4            EOC Math I                           College and Career Ready    \n",
       "\n",
       "   All Students  Female  Male  American Indian   ...    American Indian_Ct  \\\n",
       "0          49.2    51.0  47.6             33.4   ...                 24464   \n",
       "1          50.9    54.0  48.0             33.6   ...                  4598   \n",
       "2          47.5    48.5  46.5             33.0   ...                  1435   \n",
       "3          50.1    56.0  44.4             30.9   ...                  1464   \n",
       "4          54.1    56.6  51.8             36.5   ...                  1699   \n",
       "\n",
       "   Asian_Ct  Black_Ct  Hispanic_Ct  Two or More Races_Ct  White_Ct  EDS_Ct  \\\n",
       "0     64469    509546       342683                 83948    998834  995415   \n",
       "1     12697     96147        57565                 14718    200303  170107   \n",
       "2      3592     29523        16915                  4258     58641   50089   \n",
       "3      3542     31119        17970                  4508     61362   54188   \n",
       "4      5563     35505        22680                  5952     80300   65830   \n",
       "\n",
       "   LEP_Ct  SWD_Ct  AIG_Ct  \n",
       "0   95195  255617  305064  \n",
       "1   13634   42229   76138  \n",
       "2    3627   12962   19977  \n",
       "3    4153   13851   20321  \n",
       "4    5854   15416   35840  \n",
       "\n",
       "[5 rows x 32 columns]"
      ]
     },
     "execution_count": 3,
     "metadata": {},
     "output_type": "execute_result"
    }
   ],
   "source": [
    "school_data.head()"
   ]
  },
  {
   "cell_type": "code",
   "execution_count": null,
   "metadata": {},
   "outputs": [],
   "source": [
    "#scatter_matrix(school_data)"
   ]
  },
  {
   "cell_type": "code",
   "execution_count": 5,
   "metadata": {},
   "outputs": [
    {
     "data": {
      "text/plain": [
       "(85766, 32)"
      ]
     },
     "execution_count": 5,
     "metadata": {},
     "output_type": "execute_result"
    }
   ],
   "source": [
    "school_data.shape"
   ]
  },
  {
   "cell_type": "markdown",
   "metadata": {},
   "source": [
    "# Data Quality\n",
    "\n",
    "Verify data quality: Explain any missing values, duplicate data, and outliers. Are those mistakes? How do you deal with these problems? Give justifications for your methods."
   ]
  },
  {
   "cell_type": "code",
   "execution_count": null,
   "metadata": {},
   "outputs": [],
   "source": []
  },
  {
   "cell_type": "markdown",
   "metadata": {},
   "source": [
    "# Simple Statistics\n",
    "\n",
    "Visualize appropriate statistics (e.g., range, mode, mean, median, variance, counts) for a subset of attributes. Describe anything meaningful you found from this or if you found something potentially interesting. Note: You can also use data from other sources for comparison. Explain why the statistics run are meaningful. "
   ]
  },
  {
   "cell_type": "code",
   "execution_count": 18,
   "metadata": {},
   "outputs": [
    {
     "name": "stdout",
     "output_type": "stream",
     "text": [
      "       All Students        Female          Male  American Indian  \\\n",
      "count  85766.000000  85766.000000  85766.000000     85766.000000   \n",
      "mean      53.283481     53.230942     50.816355         2.641560   \n",
      "std       21.763396     23.302157     23.236344        11.432818   \n",
      "min        0.000000      0.000000      0.000000         0.000000   \n",
      "25%       38.500000     38.400000     35.500000         0.000000   \n",
      "50%       53.300000     54.200000     51.000000         0.000000   \n",
      "75%       68.000000     69.200000     66.700000         0.000000   \n",
      "max      100.000000    100.000000    100.000000       100.000000   \n",
      "\n",
      "              Asian         Black      Hispanic  Two or More Races  \\\n",
      "count  85766.000000  85766.000000  85766.000000       85766.000000   \n",
      "mean      14.049401     27.208183     31.674390          19.312606   \n",
      "std       30.039769     24.178638     26.918454          28.433244   \n",
      "min        0.000000      0.000000      0.000000           0.000000   \n",
      "25%        0.000000      0.000000      0.000000           0.000000   \n",
      "50%        0.000000     26.100000     33.300000           0.000000   \n",
      "75%        0.000000     42.200000     50.400000          42.300000   \n",
      "max      100.000000    100.000000    100.000000         100.000000   \n",
      "\n",
      "              White           EDS      ...        American Indian_Ct  \\\n",
      "count  85766.000000  85766.000000      ...              85766.000000   \n",
      "mean      56.453993     40.101511      ...                 12.292097   \n",
      "std       27.656753     21.970242      ...                196.190122   \n",
      "min        0.000000      0.000000      ...                  5.000000   \n",
      "25%       44.100000     26.200000      ...                  5.000000   \n",
      "50%       61.500000     39.100000      ...                  5.000000   \n",
      "75%       76.200000     52.900000      ...                  5.000000   \n",
      "max      100.000000    100.000000      ...              24464.000000   \n",
      "\n",
      "           Asian_Ct       Black_Ct    Hispanic_Ct  Two or More Races_Ct  \\\n",
      "count  85766.000000   85766.000000   85766.000000          85766.000000   \n",
      "mean      24.364538     174.537999     117.599037             29.467831   \n",
      "std      483.668489    3705.367580    2502.602658            606.965166   \n",
      "min        5.000000       5.000000       5.000000              5.000000   \n",
      "25%        5.000000       5.000000       5.000000              5.000000   \n",
      "50%        5.000000      30.000000      21.000000              5.000000   \n",
      "75%        5.000000      84.000000      57.000000             15.000000   \n",
      "max    64469.000000  509546.000000  342683.000000          83948.000000   \n",
      "\n",
      "            White_Ct         EDS_Ct        LEP_Ct         SWD_Ct  \\\n",
      "count   85766.000000   85766.000000  85766.000000   85766.000000   \n",
      "mean      341.109239     340.091948     33.879404      86.061773   \n",
      "std      7152.878031    7199.694882    715.061354    1850.959176   \n",
      "min         5.000000       5.000000      5.000000       5.000000   \n",
      "25%        26.000000      35.000000      5.000000       5.000000   \n",
      "50%        69.000000      78.000000      5.000000      19.000000   \n",
      "75%       177.000000     177.000000     15.000000      45.000000   \n",
      "max    998834.000000  995415.000000  95195.000000  255617.000000   \n",
      "\n",
      "              AIG_Ct  \n",
      "count   85766.000000  \n",
      "mean      106.320034  \n",
      "std      2174.148030  \n",
      "min         5.000000  \n",
      "25%         5.000000  \n",
      "50%        17.000000  \n",
      "75%        49.000000  \n",
      "max    305064.000000  \n",
      "\n",
      "[8 rows x 26 columns]\n"
     ]
    }
   ],
   "source": [
    "print(school_data.describe())"
   ]
  },
  {
   "cell_type": "markdown",
   "metadata": {},
   "source": [
    "# Visualize Attributes\n",
    "\n",
    "Visualize the most interesting attributes (at least 5 attributes, your opinion on what is interesting). Important: Interpret the implications for each visualization. Explain for each attribute why the chosen visualization is appropriate."
   ]
  },
  {
   "cell_type": "code",
   "execution_count": null,
   "metadata": {},
   "outputs": [],
   "source": []
  },
  {
   "cell_type": "markdown",
   "metadata": {},
   "source": [
    "# Explore Joint Attributes\n",
    "\n",
    "Visualize relationships between attributes: Look at the attributes via scatter plots, correlation, cross-tabulation, group-wise averages, etc. as appropriate. Explain any interesting relationships."
   ]
  },
  {
   "cell_type": "code",
   "execution_count": null,
   "metadata": {},
   "outputs": [],
   "source": []
  },
  {
   "cell_type": "markdown",
   "metadata": {},
   "source": [
    "# Explore Attributes and Class\n",
    "\n",
    "Identify and explain interesting relationships between features and the class you are trying to predict (i.e., relationships with variables and the target classification)."
   ]
  },
  {
   "cell_type": "code",
   "execution_count": null,
   "metadata": {},
   "outputs": [],
   "source": []
  },
  {
   "cell_type": "markdown",
   "metadata": {},
   "source": [
    "# New Features\n",
    "\n",
    "Are there other features that could be added to the data or created from existing features? Which ones?"
   ]
  },
  {
   "cell_type": "code",
   "execution_count": null,
   "metadata": {},
   "outputs": [],
   "source": []
  },
  {
   "cell_type": "markdown",
   "metadata": {},
   "source": [
    "# Exceptional Work\n",
    "\n",
    "You have free reign to provide additional analyses. One idea: implement dimensionality reduction, then visualize and interpret the results."
   ]
  },
  {
   "cell_type": "code",
   "execution_count": null,
   "metadata": {},
   "outputs": [],
   "source": []
  }
 ],
 "metadata": {
  "kernelspec": {
   "display_name": "Python 3",
   "language": "python",
   "name": "python3"
  },
  "language_info": {
   "codemirror_mode": {
    "name": "ipython",
    "version": 3
   },
   "file_extension": ".py",
   "mimetype": "text/x-python",
   "name": "python",
   "nbconvert_exporter": "python",
   "pygments_lexer": "ipython3",
   "version": "3.6.5"
  }
 },
 "nbformat": 4,
 "nbformat_minor": 2
}
